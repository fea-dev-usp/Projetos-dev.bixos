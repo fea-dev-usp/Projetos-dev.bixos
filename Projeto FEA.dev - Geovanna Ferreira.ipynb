{
 "cells": [
  {
   "attachments": {
    "image.png": {
     "image/png": "[encoded data removed]"
    }
   },
   "cell_type": "markdown",
   "metadata": {},
   "source": [
    "![image.png](attachment:image.png)"
   ]
  },
  {
   "cell_type": "markdown",
   "metadata": {},
   "source": [
    "# <font color=white|cyan>Projeto FEA.dev</font> \n",
    "\n",
    "### A distribuição da Rede de Telefonia Móvel tem relação com a distribuição de Internet Banda Larga?\n",
    "\n",
    "Tentarei responder a essa pergunta com a ajuda de uma Análise de Regressão e Correlação."
   ]
  },
  {
   "cell_type": "code",
   "execution_count": 33,
   "metadata": {},
   "outputs": [],
   "source": [
    "# Importando as bibliotecas que vou usar:\n",
    "import pandas as pd\n",
    "import seaborn as sns\n",
    "import statsmodels.api as sm\n",
    "\n",
    "# Nomeando os dados sobre a Telefonia Móvel:\n",
    "Telefonia_Móvel = pd.read_csv('Documents/modalidade.csv')\n",
    "\n",
    "# Nomeando os dados sobre a Internet Banda Larga:\n",
    "Internet_Banda_Larga = pd.read_csv('Documents/microdados.csv')"
   ]
  },
  {
   "cell_type": "code",
   "execution_count": 34,
   "metadata": {},
   "outputs": [
    {
     "name": "stdout",
     "output_type": "stream",
     "text": [
      "          ano  mes sigla_uf  ddd            cnpj empresa porte_empresa  \\\n",
      "0        2005    2       SP   11   2558157000162    VIVO  Grande Porte   \n",
      "1        2005    2       SP   11   2558157000162    VIVO  Grande Porte   \n",
      "2        2005    2       SP   11   4206050000180     TIM  Grande Porte   \n",
      "3        2005    2       SP   11   4206050000180     TIM  Grande Porte   \n",
      "4        2005    2       SP   11  40432544000147   CLARO  Grande Porte   \n",
      "...       ...  ...      ...  ...             ...     ...           ...   \n",
      "6226546  2021    1       PA   94   5423963000111      OI  Grande Porte   \n",
      "6226547  2021    1       PA   94   5423963000111      OI  Grande Porte   \n",
      "6226548  2021    1       PA   94   5423963000111      OI  Grande Porte   \n",
      "6226549  2021    1       PA   94   5423963000111      OI  Grande Porte   \n",
      "6226550  2021    1       PA   94   5423963000111     NaN           NaN   \n",
      "\n",
      "        modalidade    acessos  \n",
      "0         Pré-pago  4362642.0  \n",
      "1         Pós-pago  1016008.0  \n",
      "2         Pré-pago  1770510.0  \n",
      "3         Pós-pago   385276.0  \n",
      "4         Pré-pago  1863716.0  \n",
      "...            ...        ...  \n",
      "6226546   Pós-pago        1.0  \n",
      "6226547   Pré-pago        4.0  \n",
      "6226548   Pré-pago        4.0  \n",
      "6226549   Pré-pago       32.0  \n",
      "6226550        NaN        NaN  \n",
      "\n",
      "[6226551 rows x 9 columns]\n"
     ]
    }
   ],
   "source": [
    "# Printando o conjunto de dados sobre a Telefonia Móvel:\n",
    "\n",
    "print(Telefonia_Móvel)"
   ]
  },
  {
   "cell_type": "code",
   "execution_count": 35,
   "metadata": {},
   "outputs": [
    {
     "data": {
      "text/html": [
       "<div>\n",
       "<style scoped>\n",
       "    .dataframe tbody tr th:only-of-type {\n",
       "        vertical-align: middle;\n",
       "    }\n",
       "\n",
       "    .dataframe tbody tr th {\n",
       "        vertical-align: top;\n",
       "    }\n",
       "\n",
       "    .dataframe thead th {\n",
       "        text-align: right;\n",
       "    }\n",
       "</style>\n",
       "<table border=\"1\" class=\"dataframe\">\n",
       "  <thead>\n",
       "    <tr style=\"text-align: right;\">\n",
       "      <th></th>\n",
       "      <th>ano</th>\n",
       "      <th>sigla_uf</th>\n",
       "      <th>acessos</th>\n",
       "    </tr>\n",
       "  </thead>\n",
       "  <tbody>\n",
       "    <tr>\n",
       "      <th>0</th>\n",
       "      <td>2005</td>\n",
       "      <td>SP</td>\n",
       "      <td>4362642.0</td>\n",
       "    </tr>\n",
       "    <tr>\n",
       "      <th>1</th>\n",
       "      <td>2005</td>\n",
       "      <td>SP</td>\n",
       "      <td>1016008.0</td>\n",
       "    </tr>\n",
       "    <tr>\n",
       "      <th>2</th>\n",
       "      <td>2005</td>\n",
       "      <td>SP</td>\n",
       "      <td>1770510.0</td>\n",
       "    </tr>\n",
       "    <tr>\n",
       "      <th>3</th>\n",
       "      <td>2005</td>\n",
       "      <td>SP</td>\n",
       "      <td>385276.0</td>\n",
       "    </tr>\n",
       "    <tr>\n",
       "      <th>4</th>\n",
       "      <td>2005</td>\n",
       "      <td>SP</td>\n",
       "      <td>1863716.0</td>\n",
       "    </tr>\n",
       "  </tbody>\n",
       "</table>\n",
       "</div>"
      ],
      "text/plain": [
       "    ano sigla_uf    acessos\n",
       "0  2005       SP  4362642.0\n",
       "1  2005       SP  1016008.0\n",
       "2  2005       SP  1770510.0\n",
       "3  2005       SP   385276.0\n",
       "4  2005       SP  1863716.0"
      ]
     },
     "execution_count": 35,
     "metadata": {},
     "output_type": "execute_result"
    }
   ],
   "source": [
    "# Está muito bagunçado, vou arrumar e deixar somente o que é necessário.\n",
    "# Primeiro vou excluir as colunas que não vou precisar.\n",
    "\n",
    "Telefonia_Móvel.drop('mes', axis = 1, inplace=True)\n",
    "Telefonia_Móvel.drop('ddd', axis = 1, inplace=True)\n",
    "Telefonia_Móvel.drop('cnpj', axis = 1, inplace=True)\n",
    "Telefonia_Móvel.drop('porte_empresa', axis = 1, inplace=True)\n",
    "Telefonia_Móvel.drop('modalidade', axis = 1, inplace=True)\n",
    "Telefonia_Móvel.drop('empresa', axis = 1, inplace=True)\n",
    "\n",
    "Telefonia_Móvel.head()"
   ]
  },
  {
   "cell_type": "code",
   "execution_count": 38,
   "metadata": {},
   "outputs": [
    {
     "data": {
      "text/html": [
       "<div>\n",
       "<style scoped>\n",
       "    .dataframe tbody tr th:only-of-type {\n",
       "        vertical-align: middle;\n",
       "    }\n",
       "\n",
       "    .dataframe tbody tr th {\n",
       "        vertical-align: top;\n",
       "    }\n",
       "\n",
       "    .dataframe thead th {\n",
       "        text-align: right;\n",
       "    }\n",
       "</style>\n",
       "<table border=\"1\" class=\"dataframe\">\n",
       "  <thead>\n",
       "    <tr style=\"text-align: right;\">\n",
       "      <th></th>\n",
       "      <th>ano</th>\n",
       "      <th>sigla_uf</th>\n",
       "      <th>acessos</th>\n",
       "    </tr>\n",
       "  </thead>\n",
       "  <tbody>\n",
       "    <tr>\n",
       "      <th>6071871</th>\n",
       "      <td>2021</td>\n",
       "      <td>AC</td>\n",
       "      <td>765.0</td>\n",
       "    </tr>\n",
       "    <tr>\n",
       "      <th>6071872</th>\n",
       "      <td>2021</td>\n",
       "      <td>AC</td>\n",
       "      <td>1.0</td>\n",
       "    </tr>\n",
       "    <tr>\n",
       "      <th>6071873</th>\n",
       "      <td>2021</td>\n",
       "      <td>AC</td>\n",
       "      <td>183.0</td>\n",
       "    </tr>\n",
       "    <tr>\n",
       "      <th>6071874</th>\n",
       "      <td>2021</td>\n",
       "      <td>AC</td>\n",
       "      <td>1.0</td>\n",
       "    </tr>\n",
       "    <tr>\n",
       "      <th>6071875</th>\n",
       "      <td>2021</td>\n",
       "      <td>AC</td>\n",
       "      <td>1.0</td>\n",
       "    </tr>\n",
       "    <tr>\n",
       "      <th>...</th>\n",
       "      <td>...</td>\n",
       "      <td>...</td>\n",
       "      <td>...</td>\n",
       "    </tr>\n",
       "    <tr>\n",
       "      <th>6226546</th>\n",
       "      <td>2021</td>\n",
       "      <td>PA</td>\n",
       "      <td>1.0</td>\n",
       "    </tr>\n",
       "    <tr>\n",
       "      <th>6226547</th>\n",
       "      <td>2021</td>\n",
       "      <td>PA</td>\n",
       "      <td>4.0</td>\n",
       "    </tr>\n",
       "    <tr>\n",
       "      <th>6226548</th>\n",
       "      <td>2021</td>\n",
       "      <td>PA</td>\n",
       "      <td>4.0</td>\n",
       "    </tr>\n",
       "    <tr>\n",
       "      <th>6226549</th>\n",
       "      <td>2021</td>\n",
       "      <td>PA</td>\n",
       "      <td>32.0</td>\n",
       "    </tr>\n",
       "    <tr>\n",
       "      <th>6226550</th>\n",
       "      <td>2021</td>\n",
       "      <td>PA</td>\n",
       "      <td>NaN</td>\n",
       "    </tr>\n",
       "  </tbody>\n",
       "</table>\n",
       "<p>154680 rows × 3 columns</p>\n",
       "</div>"
      ],
      "text/plain": [
       "          ano sigla_uf  acessos\n",
       "6071871  2021       AC    765.0\n",
       "6071872  2021       AC      1.0\n",
       "6071873  2021       AC    183.0\n",
       "6071874  2021       AC      1.0\n",
       "6071875  2021       AC      1.0\n",
       "...       ...      ...      ...\n",
       "6226546  2021       PA      1.0\n",
       "6226547  2021       PA      4.0\n",
       "6226548  2021       PA      4.0\n",
       "6226549  2021       PA     32.0\n",
       "6226550  2021       PA      NaN\n",
       "\n",
       "[154680 rows x 3 columns]"
      ]
     },
     "execution_count": 38,
     "metadata": {},
     "output_type": "execute_result"
    }
   ],
   "source": [
    "# Já está bem mais bonito, mas ainda tem coisas que não preciso. Vou fazer um filtro e deixar somente os dados do ano de 2021\n",
    "\n",
    "filtro  = Telefonia_Móvel['ano'] > 2020\n",
    "Telefonia_Móvel2 = Telefonia_Móvel[filtro]\n",
    "\n",
    "Telefonia_Móvel2.head(6071875) # Também é possível usar display(Telefonia_Móvel2) para printar o DataFrame completo."
   ]
  },
  {
   "cell_type": "code",
   "execution_count": 39,
   "metadata": {},
   "outputs": [
    {
     "data": {
      "text/html": [
       "<div>\n",
       "<style scoped>\n",
       "    .dataframe tbody tr th:only-of-type {\n",
       "        vertical-align: middle;\n",
       "    }\n",
       "\n",
       "    .dataframe tbody tr th {\n",
       "        vertical-align: top;\n",
       "    }\n",
       "\n",
       "    .dataframe thead th {\n",
       "        text-align: right;\n",
       "    }\n",
       "</style>\n",
       "<table border=\"1\" class=\"dataframe\">\n",
       "  <thead>\n",
       "    <tr style=\"text-align: right;\">\n",
       "      <th></th>\n",
       "      <th>ano</th>\n",
       "      <th>acessos</th>\n",
       "    </tr>\n",
       "    <tr>\n",
       "      <th>sigla_uf</th>\n",
       "      <th></th>\n",
       "      <th></th>\n",
       "    </tr>\n",
       "  </thead>\n",
       "  <tbody>\n",
       "    <tr>\n",
       "      <th>AC</th>\n",
       "      <td>2021</td>\n",
       "      <td>785378.0</td>\n",
       "    </tr>\n",
       "    <tr>\n",
       "      <th>AL</th>\n",
       "      <td>2021</td>\n",
       "      <td>2914576.0</td>\n",
       "    </tr>\n",
       "    <tr>\n",
       "      <th>AM</th>\n",
       "      <td>2021</td>\n",
       "      <td>4072723.0</td>\n",
       "    </tr>\n",
       "    <tr>\n",
       "      <th>AP</th>\n",
       "      <td>2021</td>\n",
       "      <td>761623.0</td>\n",
       "    </tr>\n",
       "    <tr>\n",
       "      <th>BA</th>\n",
       "      <td>2021</td>\n",
       "      <td>13870095.0</td>\n",
       "    </tr>\n",
       "    <tr>\n",
       "      <th>CE</th>\n",
       "      <td>2021</td>\n",
       "      <td>8937540.0</td>\n",
       "    </tr>\n",
       "    <tr>\n",
       "      <th>DF</th>\n",
       "      <td>2021</td>\n",
       "      <td>4109379.0</td>\n",
       "    </tr>\n",
       "    <tr>\n",
       "      <th>ES</th>\n",
       "      <td>2021</td>\n",
       "      <td>4228775.0</td>\n",
       "    </tr>\n",
       "    <tr>\n",
       "      <th>GO</th>\n",
       "      <td>2021</td>\n",
       "      <td>7327127.0</td>\n",
       "    </tr>\n",
       "    <tr>\n",
       "      <th>MA</th>\n",
       "      <td>2021</td>\n",
       "      <td>5615096.0</td>\n",
       "    </tr>\n",
       "    <tr>\n",
       "      <th>MG</th>\n",
       "      <td>2021</td>\n",
       "      <td>22737880.0</td>\n",
       "    </tr>\n",
       "    <tr>\n",
       "      <th>MS</th>\n",
       "      <td>2021</td>\n",
       "      <td>2910661.0</td>\n",
       "    </tr>\n",
       "    <tr>\n",
       "      <th>MT</th>\n",
       "      <td>2021</td>\n",
       "      <td>3770754.0</td>\n",
       "    </tr>\n",
       "    <tr>\n",
       "      <th>PA</th>\n",
       "      <td>2021</td>\n",
       "      <td>5987497.0</td>\n",
       "    </tr>\n",
       "  </tbody>\n",
       "</table>\n",
       "</div>"
      ],
      "text/plain": [
       "           ano     acessos\n",
       "sigla_uf                  \n",
       "AC        2021    785378.0\n",
       "AL        2021   2914576.0\n",
       "AM        2021   4072723.0\n",
       "AP        2021    761623.0\n",
       "BA        2021  13870095.0\n",
       "CE        2021   8937540.0\n",
       "DF        2021   4109379.0\n",
       "ES        2021   4228775.0\n",
       "GO        2021   7327127.0\n",
       "MA        2021   5615096.0\n",
       "MG        2021  22737880.0\n",
       "MS        2021   2910661.0\n",
       "MT        2021   3770754.0\n",
       "PA        2021   5987497.0"
      ]
     },
     "execution_count": 39,
     "metadata": {},
     "output_type": "execute_result"
    }
   ],
   "source": [
    "# Agora, vamos agrupar por estado.\n",
    "\n",
    "Telefonia_Móvel2.groupby(['sigla_uf']).agg({'ano':'mean','acessos':'sum'})"
   ]
  },
  {
   "cell_type": "markdown",
   "metadata": {},
   "source": [
    "#### Agora vou fazer a mesma coisa com os dados sobre a Internet Banda Larga"
   ]
  },
  {
   "cell_type": "code",
   "execution_count": 40,
   "metadata": {},
   "outputs": [
    {
     "name": "stdout",
     "output_type": "stream",
     "text": [
      "           ano  mes sigla_uf  id_municipio            cnpj empresa  \\\n",
      "0         2007    3       AC       1200013  33530486000129   CLARO   \n",
      "1         2007    3       AC       1200013  76535764000143      OI   \n",
      "2         2007    3       AC       1200013  76535764000143      OI   \n",
      "3         2007    3       AC       1200013  76535764000143      OI   \n",
      "4         2007    3       AC       1200013  76535764000143      OI   \n",
      "...        ...  ...      ...           ...             ...     ...   \n",
      "15044937  2021    7       TO       1722107  76535764000143      OI   \n",
      "15044938  2021    7       TO       1722107  76535764000143      OI   \n",
      "15044939  2021    7       TO       1722107  76535764000143      OI   \n",
      "15044940  2021    7       TO       1722107  76535764000143      OI   \n",
      "15044941  2021    7       TO       1722107  76535764000143      OI   \n",
      "\n",
      "         porte_empresa tecnologia    transmissao        velocidade  acessos  \n",
      "0         Grande Porte       xDSL  Cabo Metálico    0Kbps a 64Kbps        1  \n",
      "1         Grande Porte      Outra          Outra    0Kbps a 64Kbps        2  \n",
      "2         Grande Porte      Outra          Outra   512kbps a 2Mbps        2  \n",
      "3         Grande Porte      Outra          Outra  64Kbps a 512Kbps        4  \n",
      "4         Grande Porte       xDSL  Cabo Metálico    2Mbps a 34Mbps        2  \n",
      "...                ...        ...            ...               ...      ...  \n",
      "15044937  Grande Porte         FR  Cabo Metálico   0Kbps a 512Kbps        1  \n",
      "15044938  Grande Porte       FTTB          Fibra   0Kbps a 512Kbps        2  \n",
      "15044939  Grande Porte       FTTB          Fibra   12Mbps a 34Mbps        1  \n",
      "15044940  Grande Porte       FTTB          Fibra    2Mbps a 12Mbps        2  \n",
      "15044941  Grande Porte       FTTB          Fibra   512kbps a 2Mbps       13  \n",
      "\n",
      "[15044942 rows x 11 columns]\n"
     ]
    }
   ],
   "source": [
    "# Primeiro vou printar para vermos como os dados estão.\n",
    "\n",
    "print(Internet_Banda_Larga)"
   ]
  },
  {
   "cell_type": "code",
   "execution_count": 41,
   "metadata": {},
   "outputs": [
    {
     "data": {
      "text/html": [
       "<div>\n",
       "<style scoped>\n",
       "    .dataframe tbody tr th:only-of-type {\n",
       "        vertical-align: middle;\n",
       "    }\n",
       "\n",
       "    .dataframe tbody tr th {\n",
       "        vertical-align: top;\n",
       "    }\n",
       "\n",
       "    .dataframe thead th {\n",
       "        text-align: right;\n",
       "    }\n",
       "</style>\n",
       "<table border=\"1\" class=\"dataframe\">\n",
       "  <thead>\n",
       "    <tr style=\"text-align: right;\">\n",
       "      <th></th>\n",
       "      <th>ano</th>\n",
       "      <th>acessos</th>\n",
       "    </tr>\n",
       "    <tr>\n",
       "      <th>sigla_uf</th>\n",
       "      <th></th>\n",
       "      <th></th>\n",
       "    </tr>\n",
       "  </thead>\n",
       "  <tbody>\n",
       "    <tr>\n",
       "      <th>AC</th>\n",
       "      <td>2021</td>\n",
       "      <td>647417</td>\n",
       "    </tr>\n",
       "    <tr>\n",
       "      <th>AL</th>\n",
       "      <td>2021</td>\n",
       "      <td>1467641</td>\n",
       "    </tr>\n",
       "    <tr>\n",
       "      <th>AM</th>\n",
       "      <td>2021</td>\n",
       "      <td>2923442</td>\n",
       "    </tr>\n",
       "    <tr>\n",
       "      <th>AP</th>\n",
       "      <td>2021</td>\n",
       "      <td>753165</td>\n",
       "    </tr>\n",
       "    <tr>\n",
       "      <th>BA</th>\n",
       "      <td>2021</td>\n",
       "      <td>9578078</td>\n",
       "    </tr>\n",
       "    <tr>\n",
       "      <th>CE</th>\n",
       "      <td>2021</td>\n",
       "      <td>8783633</td>\n",
       "    </tr>\n",
       "    <tr>\n",
       "      <th>DF</th>\n",
       "      <td>2021</td>\n",
       "      <td>5543482</td>\n",
       "    </tr>\n",
       "    <tr>\n",
       "      <th>ES</th>\n",
       "      <td>2021</td>\n",
       "      <td>4700455</td>\n",
       "    </tr>\n",
       "    <tr>\n",
       "      <th>GO</th>\n",
       "      <td>2021</td>\n",
       "      <td>8093542</td>\n",
       "    </tr>\n",
       "    <tr>\n",
       "      <th>MA</th>\n",
       "      <td>2021</td>\n",
       "      <td>2844304</td>\n",
       "    </tr>\n",
       "    <tr>\n",
       "      <th>MG</th>\n",
       "      <td>2021</td>\n",
       "      <td>28395836</td>\n",
       "    </tr>\n",
       "    <tr>\n",
       "      <th>MS</th>\n",
       "      <td>2021</td>\n",
       "      <td>3176102</td>\n",
       "    </tr>\n",
       "    <tr>\n",
       "      <th>MT</th>\n",
       "      <td>2021</td>\n",
       "      <td>3876885</td>\n",
       "    </tr>\n",
       "    <tr>\n",
       "      <th>PA</th>\n",
       "      <td>2021</td>\n",
       "      <td>3953197</td>\n",
       "    </tr>\n",
       "    <tr>\n",
       "      <th>PB</th>\n",
       "      <td>2021</td>\n",
       "      <td>3623628</td>\n",
       "    </tr>\n",
       "    <tr>\n",
       "      <th>PE</th>\n",
       "      <td>2021</td>\n",
       "      <td>5174376</td>\n",
       "    </tr>\n",
       "    <tr>\n",
       "      <th>PI</th>\n",
       "      <td>2021</td>\n",
       "      <td>2110526</td>\n",
       "    </tr>\n",
       "    <tr>\n",
       "      <th>PR</th>\n",
       "      <td>2021</td>\n",
       "      <td>19051375</td>\n",
       "    </tr>\n",
       "    <tr>\n",
       "      <th>RJ</th>\n",
       "      <td>2021</td>\n",
       "      <td>25526971</td>\n",
       "    </tr>\n",
       "    <tr>\n",
       "      <th>RN</th>\n",
       "      <td>2021</td>\n",
       "      <td>3957978</td>\n",
       "    </tr>\n",
       "    <tr>\n",
       "      <th>RO</th>\n",
       "      <td>2021</td>\n",
       "      <td>1669345</td>\n",
       "    </tr>\n",
       "    <tr>\n",
       "      <th>RR</th>\n",
       "      <td>2021</td>\n",
       "      <td>401197</td>\n",
       "    </tr>\n",
       "    <tr>\n",
       "      <th>RS</th>\n",
       "      <td>2021</td>\n",
       "      <td>18791806</td>\n",
       "    </tr>\n",
       "    <tr>\n",
       "      <th>SC</th>\n",
       "      <td>2021</td>\n",
       "      <td>14698081</td>\n",
       "    </tr>\n",
       "    <tr>\n",
       "      <th>SE</th>\n",
       "      <td>2021</td>\n",
       "      <td>2041077</td>\n",
       "    </tr>\n",
       "    <tr>\n",
       "      <th>SP</th>\n",
       "      <td>2021</td>\n",
       "      <td>84713723</td>\n",
       "    </tr>\n",
       "    <tr>\n",
       "      <th>TO</th>\n",
       "      <td>2021</td>\n",
       "      <td>817698</td>\n",
       "    </tr>\n",
       "  </tbody>\n",
       "</table>\n",
       "</div>"
      ],
      "text/plain": [
       "           ano   acessos\n",
       "sigla_uf                \n",
       "AC        2021    647417\n",
       "AL        2021   1467641\n",
       "AM        2021   2923442\n",
       "AP        2021    753165\n",
       "BA        2021   9578078\n",
       "CE        2021   8783633\n",
       "DF        2021   5543482\n",
       "ES        2021   4700455\n",
       "GO        2021   8093542\n",
       "MA        2021   2844304\n",
       "MG        2021  28395836\n",
       "MS        2021   3176102\n",
       "MT        2021   3876885\n",
       "PA        2021   3953197\n",
       "PB        2021   3623628\n",
       "PE        2021   5174376\n",
       "PI        2021   2110526\n",
       "PR        2021  19051375\n",
       "RJ        2021  25526971\n",
       "RN        2021   3957978\n",
       "RO        2021   1669345\n",
       "RR        2021    401197\n",
       "RS        2021  18791806\n",
       "SC        2021  14698081\n",
       "SE        2021   2041077\n",
       "SP        2021  84713723\n",
       "TO        2021    817698"
      ]
     },
     "execution_count": 41,
     "metadata": {},
     "output_type": "execute_result"
    }
   ],
   "source": [
    "# Vou excluir as colunas que não vou precisar.\n",
    "\n",
    "Internet_Banda_Larga.drop('mes', axis = 1, inplace=True)\n",
    "Internet_Banda_Larga.drop('id_municipio', axis = 1, inplace=True)\n",
    "Internet_Banda_Larga.drop('cnpj', axis = 1, inplace=True)\n",
    "Internet_Banda_Larga.drop('empresa', axis = 1, inplace=True)\n",
    "Internet_Banda_Larga.drop('porte_empresa', axis = 1, inplace=True)\n",
    "Internet_Banda_Larga.drop('tecnologia', axis = 1, inplace=True)\n",
    "Internet_Banda_Larga.drop('transmissao', axis = 1, inplace=True)\n",
    "Internet_Banda_Larga.drop('velocidade', axis = 1, inplace=True)\n",
    "\n",
    "# Vou fazer um filtro e deixar somente os dados do ano de 2021\n",
    "\n",
    "filtro  = Internet_Banda_Larga['ano'] > 2020\n",
    "Internet_Banda_Larga2 = Internet_Banda_Larga[filtro]\n",
    "\n",
    "# Agora, vou agrupar por estado.\n",
    "\n",
    "Internet_Banda_Larga2.groupby(['sigla_uf']).agg({'ano':'mean','acessos':'sum'})"
   ]
  },
  {
   "cell_type": "markdown",
   "metadata": {},
   "source": [
    "#### Agora que já vimos os dados individualmente, vamos partir para a Análise de Regressão e Correlação."
   ]
  },
  {
   "cell_type": "code",
   "execution_count": 42,
   "metadata": {},
   "outputs": [],
   "source": [
    "# Como os dados tem extensões diferentes, vou criar listas com os acessos dos estados que se reperem nos dois conjuntos de dados.\n",
    "\n",
    "Dados_Telefonia_Móvel_e_Internet_Banda_Larga = {\n",
    "    'Telefonia': [785378, 2914576, 4072723, 761623, 13870095, 8937540, 4109379, 4228775, 7327127, 5615096, 22737880, 2910661, 3770754, 5987497],\n",
    "    'Internet': [647417, 1467641, 2923442, 753165, 9578078, 8783633, 5543482, 4700455, 8093542, 2844304, 28395836, 3176102, 3876885, 3953197]}"
   ]
  },
  {
   "cell_type": "code",
   "execution_count": 43,
   "metadata": {},
   "outputs": [
    {
     "data": {
      "text/html": [
       "<div>\n",
       "<style scoped>\n",
       "    .dataframe tbody tr th:only-of-type {\n",
       "        vertical-align: middle;\n",
       "    }\n",
       "\n",
       "    .dataframe tbody tr th {\n",
       "        vertical-align: top;\n",
       "    }\n",
       "\n",
       "    .dataframe thead th {\n",
       "        text-align: right;\n",
       "    }\n",
       "</style>\n",
       "<table border=\"1\" class=\"dataframe\">\n",
       "  <thead>\n",
       "    <tr style=\"text-align: right;\">\n",
       "      <th></th>\n",
       "      <th>Telefonia</th>\n",
       "      <th>Internet</th>\n",
       "    </tr>\n",
       "  </thead>\n",
       "  <tbody>\n",
       "    <tr>\n",
       "      <th>0</th>\n",
       "      <td>785378</td>\n",
       "      <td>647417</td>\n",
       "    </tr>\n",
       "    <tr>\n",
       "      <th>1</th>\n",
       "      <td>2914576</td>\n",
       "      <td>1467641</td>\n",
       "    </tr>\n",
       "    <tr>\n",
       "      <th>2</th>\n",
       "      <td>4072723</td>\n",
       "      <td>2923442</td>\n",
       "    </tr>\n",
       "    <tr>\n",
       "      <th>3</th>\n",
       "      <td>761623</td>\n",
       "      <td>753165</td>\n",
       "    </tr>\n",
       "    <tr>\n",
       "      <th>4</th>\n",
       "      <td>13870095</td>\n",
       "      <td>9578078</td>\n",
       "    </tr>\n",
       "  </tbody>\n",
       "</table>\n",
       "</div>"
      ],
      "text/plain": [
       "   Telefonia  Internet\n",
       "0     785378    647417\n",
       "1    2914576   1467641\n",
       "2    4072723   2923442\n",
       "3     761623    753165\n",
       "4   13870095   9578078"
      ]
     },
     "execution_count": 43,
     "metadata": {},
     "output_type": "execute_result"
    }
   ],
   "source": [
    "# Agora vou criar um DataFrame com os dados das listas.\n",
    "\n",
    "Dados_Telefonia_Móvel_e_Internet_Banda_Larga = pd.DataFrame(Dados_Telefonia_Móvel_e_Internet_Banda_Larga)\n",
    "Dados_Telefonia_Móvel_e_Internet_Banda_Larga.head()"
   ]
  },
  {
   "cell_type": "code",
   "execution_count": 44,
   "metadata": {},
   "outputs": [
    {
     "data": {
      "text/html": [
       "<div>\n",
       "<style scoped>\n",
       "    .dataframe tbody tr th:only-of-type {\n",
       "        vertical-align: middle;\n",
       "    }\n",
       "\n",
       "    .dataframe tbody tr th {\n",
       "        vertical-align: top;\n",
       "    }\n",
       "\n",
       "    .dataframe thead th {\n",
       "        text-align: right;\n",
       "    }\n",
       "</style>\n",
       "<table border=\"1\" class=\"dataframe\">\n",
       "  <thead>\n",
       "    <tr style=\"text-align: right;\">\n",
       "      <th></th>\n",
       "      <th>Telefonia</th>\n",
       "      <th>Internet</th>\n",
       "    </tr>\n",
       "  </thead>\n",
       "  <tbody>\n",
       "    <tr>\n",
       "      <th>count</th>\n",
       "      <td>1.400000e+01</td>\n",
       "      <td>1.400000e+01</td>\n",
       "    </tr>\n",
       "    <tr>\n",
       "      <th>mean</th>\n",
       "      <td>6.287793e+06</td>\n",
       "      <td>6.052656e+06</td>\n",
       "    </tr>\n",
       "    <tr>\n",
       "      <th>std</th>\n",
       "      <td>5.821489e+06</td>\n",
       "      <td>7.022945e+06</td>\n",
       "    </tr>\n",
       "    <tr>\n",
       "      <th>min</th>\n",
       "      <td>7.616230e+05</td>\n",
       "      <td>6.474170e+05</td>\n",
       "    </tr>\n",
       "    <tr>\n",
       "      <th>25%</th>\n",
       "      <td>3.128620e+06</td>\n",
       "      <td>2.864088e+06</td>\n",
       "    </tr>\n",
       "    <tr>\n",
       "      <th>50%</th>\n",
       "      <td>4.169077e+06</td>\n",
       "      <td>3.915041e+06</td>\n",
       "    </tr>\n",
       "    <tr>\n",
       "      <th>75%</th>\n",
       "      <td>6.992220e+06</td>\n",
       "      <td>7.456027e+06</td>\n",
       "    </tr>\n",
       "    <tr>\n",
       "      <th>max</th>\n",
       "      <td>2.273788e+07</td>\n",
       "      <td>2.839584e+07</td>\n",
       "    </tr>\n",
       "  </tbody>\n",
       "</table>\n",
       "</div>"
      ],
      "text/plain": [
       "          Telefonia      Internet\n",
       "count  1.400000e+01  1.400000e+01\n",
       "mean   6.287793e+06  6.052656e+06\n",
       "std    5.821489e+06  7.022945e+06\n",
       "min    7.616230e+05  6.474170e+05\n",
       "25%    3.128620e+06  2.864088e+06\n",
       "50%    4.169077e+06  3.915041e+06\n",
       "75%    6.992220e+06  7.456027e+06\n",
       "max    2.273788e+07  2.839584e+07"
      ]
     },
     "execution_count": 44,
     "metadata": {},
     "output_type": "execute_result"
    }
   ],
   "source": [
    "# Vou fazer uma análise geral dos dados:\n",
    "\n",
    "Dados_Telefonia_Móvel_e_Internet_Banda_Larga.describe()"
   ]
  },
  {
   "cell_type": "markdown",
   "metadata": {},
   "source": [
    "Analisando os dados acima, pôde-se dizer, por exemplo, que temos um conjunto de dados assimétricos (a média (mean) não é semelhante à mediana (50%)). Isso nos dá indícios de que os acessos de telefonia e internet não estão distribuídos de maneira semelhante nos estados analisados."
   ]
  },
  {
   "cell_type": "code",
   "execution_count": 45,
   "metadata": {},
   "outputs": [
    {
     "data": {
      "text/plain": [
       "<matplotlib.axes._subplots.AxesSubplot at 0x2da44d540a0>"
      ]
     },
     "execution_count": 45,
     "metadata": {},
     "output_type": "execute_result"
    },
    {
     "data": {
      "image/png": "[encoded data removed]",
      "text/plain": [
       "<Figure size 864x432 with 1 Axes>"
      ]
     },
     "metadata": {
      "needs_background": "light"
     },
     "output_type": "display_data"
    }
   ],
   "source": [
    "# Vou fazer um Box Plot para ver como é a distribuição dos acessos\n",
    "\n",
    "ax = sns.boxplot(data=Dados_Telefonia_Móvel_e_Internet_Banda_Larga, orient='h', width=0.5)\n",
    "ax.figure.set_size_inches(12, 6)\n",
    "ax.set_title('Box plot', fontsize=20)\n",
    "ax.set_xlabel('Acessos de Internet e Telefonia pelo Brasil', fontsize=16)\n",
    "ax"
   ]
  },
  {
   "cell_type": "markdown",
   "metadata": {},
   "source": [
    "Observando o Box Plot acima, podemos perceber que não há grandes discrepâncias entre os acessos de internet e telefonia."
   ]
  },
  {
   "cell_type": "code",
   "execution_count": 47,
   "metadata": {},
   "outputs": [
    {
     "data": {
      "text/html": [
       "<div>\n",
       "<style scoped>\n",
       "    .dataframe tbody tr th:only-of-type {\n",
       "        vertical-align: middle;\n",
       "    }\n",
       "\n",
       "    .dataframe tbody tr th {\n",
       "        vertical-align: top;\n",
       "    }\n",
       "\n",
       "    .dataframe thead th {\n",
       "        text-align: right;\n",
       "    }\n",
       "</style>\n",
       "<table border=\"1\" class=\"dataframe\">\n",
       "  <thead>\n",
       "    <tr style=\"text-align: right;\">\n",
       "      <th></th>\n",
       "      <th>Telefonia</th>\n",
       "      <th>Internet</th>\n",
       "    </tr>\n",
       "  </thead>\n",
       "  <tbody>\n",
       "    <tr>\n",
       "      <th>Telefonia</th>\n",
       "      <td>1.000000</td>\n",
       "      <td>0.953795</td>\n",
       "    </tr>\n",
       "    <tr>\n",
       "      <th>Internet</th>\n",
       "      <td>0.953795</td>\n",
       "      <td>1.000000</td>\n",
       "    </tr>\n",
       "  </tbody>\n",
       "</table>\n",
       "</div>"
      ],
      "text/plain": [
       "           Telefonia  Internet\n",
       "Telefonia   1.000000  0.953795\n",
       "Internet    0.953795  1.000000"
      ]
     },
     "execution_count": 47,
     "metadata": {},
     "output_type": "execute_result"
    }
   ],
   "source": [
    "# Por fim, vou usar a função .corr() para ver qual é a relação entre os acessos de Telefonia e Internet:\n",
    "\n",
    "Correlação = Dados_Telefonia_Móvel_e_Internet_Banda_Larga.corr()\n",
    "\n",
    "Correlação.head()"
   ]
  },
  {
   "cell_type": "code",
   "execution_count": 48,
   "metadata": {},
   "outputs": [
    {
     "data": {
      "text/plain": [
       "<matplotlib.axes._subplots.AxesSubplot at 0x2da44cb0c70>"
      ]
     },
     "execution_count": 48,
     "metadata": {},
     "output_type": "execute_result"
    },
    {
     "data": {
      "image/png": "[encoded data removed]",
      "text/plain": [
       "<Figure size 432x288 with 2 Axes>"
      ]
     },
     "metadata": {
      "needs_background": "light"
     },
     "output_type": "display_data"
    }
   ],
   "source": [
    "plot = sns.heatmap(Correlação, annot = True, fmt=\".1f\", linewidths=.6)\n",
    "plot"
   ]
  },
  {
   "cell_type": "markdown",
   "metadata": {},
   "source": [
    "Depois de analisar a regressão acima, podemos concluir que há correlação entre os acessos de Telefonia Móvel e de Internet e que essa correlação é positiva, ou seja, as variáveis analisada estão diretamente correlacionadas (onde tem telefonia móvel, tende a ter internet a banda larga). Mas, essa correlação é forte ou fraca?  "
   ]
  },
  {
   "cell_type": "code",
   "execution_count": 46,
   "metadata": {},
   "outputs": [
    {
     "data": {
      "text/plain": [
       "<seaborn.axisgrid.FacetGrid at 0x2da45263be0>"
      ]
     },
     "execution_count": 46,
     "metadata": {},
     "output_type": "execute_result"
    },
    {
     "data": {
      "image/png": "[encoded data removed]",
      "text/plain": [
       "<Figure size 864x432 with 1 Axes>"
      ]
     },
     "metadata": {
      "needs_background": "light"
     },
     "output_type": "display_data"
    }
   ],
   "source": [
    "# Vou fazer a Reta de Regressão para ver se a correlação é forte ou fraca.\n",
    "\n",
    "ax = sns.lmplot(x=\"Telefonia\", y=\"Internet\", data=Dados_Telefonia_Móvel_e_Internet_Banda_Larga)\n",
    "ax.fig.set_size_inches(12, 6)\n",
    "ax.fig.suptitle('Reta de Regressão - Telefonia X Internet', fontsize=16, y=1.02)\n",
    "ax.set_xlabels(\"Telefonia\", fontsize=14)\n",
    "ax.set_ylabels(\"Internet\", fontsize=14)\n",
    "ax"
   ]
  },
  {
   "cell_type": "markdown",
   "metadata": {},
   "source": [
    "Analisando a reta de regressão acima, vimos que os pontos estão dispersos, logo a correlação entre as variáveis é fraca, ou seja, há correlação entre a internet e a telefonia em alguns lugares, mas não em todos. Não é porque tem telefonia que obrigatóriamente terá internet."
   ]
  },
  {
   "cell_type": "markdown",
   "metadata": {},
   "source": [
    "## <font color=white|cyan>**Conclusão:** </font>\n",
    "\n",
    "Concluimos que há uma correlação entre a telefonia móvel e a rede de banda larga, mas essa correlação é fraca, não é em todos os lugares que terá os dois."
   ]
  }
 ],
 "metadata": {
  "kernelspec": {
   "display_name": "Python 3",
   "language": "python",
   "name": "python3"
  },
  "language_info": {
   "codemirror_mode": {
    "name": "ipython",
    "version": 3
   },
   "file_extension": ".py",
   "mimetype": "text/x-python",
   "name": "python",
   "nbconvert_exporter": "python",
   "pygments_lexer": "ipython3",
   "version": "3.8.3"
  }
 },
 "nbformat": 4,
 "nbformat_minor": 4
}
